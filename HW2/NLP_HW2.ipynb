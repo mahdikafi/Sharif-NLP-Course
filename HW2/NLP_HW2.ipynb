{
  "cells": [
    {
      "cell_type": "code",
      "execution_count": 2,
      "metadata": {
        "colab": {
          "base_uri": "https://localhost:8080/"
        },
        "id": "WNSH2AmPwfho",
        "outputId": "7793730c-2ea2-47bb-ec6f-7fef5ad2dcaa"
      },
      "outputs": [
        {
          "name": "stdout",
          "output_type": "stream",
          "text": [
            "Requirement already satisfied: hazm in /home/mahdikafi/anaconda3/lib/python3.9/site-packages (0.7.0)\n",
            "Requirement already satisfied: libwapiti>=0.2.1 in /home/mahdikafi/anaconda3/lib/python3.9/site-packages (from hazm) (0.2.1)\n",
            "Requirement already satisfied: nltk==3.3 in /home/mahdikafi/anaconda3/lib/python3.9/site-packages (from hazm) (3.3)\n",
            "Requirement already satisfied: six in /home/mahdikafi/anaconda3/lib/python3.9/site-packages (from nltk==3.3->hazm) (1.16.0)\n"
          ]
        }
      ],
      "source": [
        "!pip install hazm"
      ]
    },
    {
      "cell_type": "code",
      "execution_count": 7,
      "metadata": {
        "id": "R0hX5eeVQXec"
      },
      "outputs": [],
      "source": [
        "import pandas as pd\n",
        "import re\n",
        "import string\n",
        "import tqdm\n",
        "import hazm\n",
        "import random\n",
        "import itertools\n",
        "from nltk import FreqDist\n",
        "import numpy as np\n",
        "import torch\n",
        "import torch.nn as nn\n",
        "import torch.nn.functional as F\n",
        "from torch.utils.data import DataLoader, TensorDataset"
      ]
    },
    {
      "cell_type": "code",
      "execution_count": null,
      "metadata": {
        "colab": {
          "base_uri": "https://localhost:8080/"
        },
        "id": "lJl-JKBdOLhR",
        "outputId": "c5f9558f-1f85-4ef6-a663-09ee09c660cc"
      },
      "outputs": [
        {
          "name": "stdout",
          "output_type": "stream",
          "text": [
            "Mounted at /content/drive\n"
          ]
        }
      ],
      "source": [
        "# from google.colab import drive\n",
        "# drive.mount(\"/content/drive\")"
      ]
    },
    {
      "cell_type": "code",
      "execution_count": 4,
      "metadata": {
        "colab": {
          "base_uri": "https://localhost:8080/",
          "height": 1218
        },
        "id": "pl7fQ971P4Af",
        "outputId": "03016136-7d25-43d5-d10b-695e218f5371"
      },
      "outputs": [
        {
          "data": {
            "text/html": [
              "<div>\n",
              "<style scoped>\n",
              "    .dataframe tbody tr th:only-of-type {\n",
              "        vertical-align: middle;\n",
              "    }\n",
              "\n",
              "    .dataframe tbody tr th {\n",
              "        vertical-align: top;\n",
              "    }\n",
              "\n",
              "    .dataframe thead th {\n",
              "        text-align: right;\n",
              "    }\n",
              "</style>\n",
              "<table border=\"1\" class=\"dataframe\">\n",
              "  <thead>\n",
              "    <tr style=\"text-align: right;\">\n",
              "      <th></th>\n",
              "      <th>recommend</th>\n",
              "      <th>comment</th>\n",
              "    </tr>\n",
              "  </thead>\n",
              "  <tbody>\n",
              "    <tr>\n",
              "      <th>0</th>\n",
              "      <td>recommended</td>\n",
              "      <td>سلام، قبل اینکه نظرم رو بگم میخواستم به یک موض...</td>\n",
              "    </tr>\n",
              "    <tr>\n",
              "      <th>1</th>\n",
              "      <td>not_recommended</td>\n",
              "      <td>گیره های فلزی خیلی سخت تا میشوند و لذا حوله را...</td>\n",
              "    </tr>\n",
              "    <tr>\n",
              "      <th>2</th>\n",
              "      <td>recommended</td>\n",
              "      <td>سلام دوستان،،\\r\\nمنم مثه بعضی از دوستان قبل از...</td>\n",
              "    </tr>\n",
              "    <tr>\n",
              "      <th>3</th>\n",
              "      <td>recommended</td>\n",
              "      <td>من چند سالی هست که این اسپیکرو خریدم و واقعا ح...</td>\n",
              "    </tr>\n",
              "    <tr>\n",
              "      <th>4</th>\n",
              "      <td>recommended</td>\n",
              "      <td>نزدیک به دو ساله که این هارد رو خریدم. استفاده...</td>\n",
              "    </tr>\n",
              "    <tr>\n",
              "      <th>...</th>\n",
              "      <td>...</td>\n",
              "      <td>...</td>\n",
              "    </tr>\n",
              "    <tr>\n",
              "      <th>53077</th>\n",
              "      <td>not_recommended</td>\n",
              "      <td>کاملابی کیفیت، تو هر قیمتی اصلا ارزش خرید نداره</td>\n",
              "    </tr>\n",
              "    <tr>\n",
              "      <th>53078</th>\n",
              "      <td>recommended</td>\n",
              "      <td>عالیییییییییییییییییییی</td>\n",
              "    </tr>\n",
              "    <tr>\n",
              "      <th>53079</th>\n",
              "      <td>not_recommended</td>\n",
              "      <td>اندازه بالش بسیار کوچک هست بیشتر بدرد بچه ۲ سا...</td>\n",
              "    </tr>\n",
              "    <tr>\n",
              "      <th>53080</th>\n",
              "      <td>recommended</td>\n",
              "      <td>بسیار تمیز و زیبا...من که خیلی راضیم</td>\n",
              "    </tr>\n",
              "    <tr>\n",
              "      <th>53081</th>\n",
              "      <td>recommended</td>\n",
              "      <td>واکس خوبیه..</td>\n",
              "    </tr>\n",
              "  </tbody>\n",
              "</table>\n",
              "<p>53082 rows × 2 columns</p>\n",
              "</div>"
            ],
            "text/plain": [
              "             recommend                                            comment\n",
              "0          recommended  سلام، قبل اینکه نظرم رو بگم میخواستم به یک موض...\n",
              "1      not_recommended  گیره های فلزی خیلی سخت تا میشوند و لذا حوله را...\n",
              "2          recommended  سلام دوستان،،\\r\\nمنم مثه بعضی از دوستان قبل از...\n",
              "3          recommended  من چند سالی هست که این اسپیکرو خریدم و واقعا ح...\n",
              "4          recommended  نزدیک به دو ساله که این هارد رو خریدم. استفاده...\n",
              "...                ...                                                ...\n",
              "53077  not_recommended    کاملابی کیفیت، تو هر قیمتی اصلا ارزش خرید نداره\n",
              "53078      recommended                            عالیییییییییییییییییییی\n",
              "53079  not_recommended  اندازه بالش بسیار کوچک هست بیشتر بدرد بچه ۲ سا...\n",
              "53080      recommended               بسیار تمیز و زیبا...من که خیلی راضیم\n",
              "53081      recommended                                       واکس خوبیه..\n",
              "\n",
              "[53082 rows x 2 columns]"
            ]
          },
          "execution_count": 4,
          "metadata": {},
          "output_type": "execute_result"
        }
      ],
      "source": [
        "# df = pd.read_csv(\"/content/drive/MyDrive/NLP_HW2_Data/digikala_comments.csv\", usecols=['recommend', 'comment'], skipinitialspace=True, na_values={'recommend': [r'\\N', 'no_idea']}, encoding='utf-8')\n",
        "df = pd.read_csv(\"digikala_comments.csv\", usecols=['recommend', 'comment'], skipinitialspace=True, na_values={'recommend': [r'\\N', 'no_idea']}, encoding='utf-8') \n",
        "df = df[df[\"recommend\"].notna()]\n",
        "df = df.reset_index(drop=True)\n",
        "df"
      ]
    },
    {
      "cell_type": "code",
      "execution_count": null,
      "metadata": {
        "colab": {
          "base_uri": "https://localhost:8080/",
          "height": 423
        },
        "id": "orymMXIrkWdu",
        "outputId": "81dbb45d-d650-4bd2-f1f4-477ee86bd4f5"
      },
      "outputs": [
        {
          "data": {
            "text/html": [
              "\n",
              "  <div id=\"df-de56a4e3-2eab-4bb3-938c-bbaa9b206f73\">\n",
              "    <div class=\"colab-df-container\">\n",
              "      <div>\n",
              "<style scoped>\n",
              "    .dataframe tbody tr th:only-of-type {\n",
              "        vertical-align: middle;\n",
              "    }\n",
              "\n",
              "    .dataframe tbody tr th {\n",
              "        vertical-align: top;\n",
              "    }\n",
              "\n",
              "    .dataframe thead th {\n",
              "        text-align: right;\n",
              "    }\n",
              "</style>\n",
              "<table border=\"1\" class=\"dataframe\">\n",
              "  <thead>\n",
              "    <tr style=\"text-align: right;\">\n",
              "      <th></th>\n",
              "      <th>recommend</th>\n",
              "      <th>comment</th>\n",
              "    </tr>\n",
              "  </thead>\n",
              "  <tbody>\n",
              "    <tr>\n",
              "      <th>0</th>\n",
              "      <td>1</td>\n",
              "      <td>سلام، قبل اینکه نظرم رو بگم میخواستم به یک موض...</td>\n",
              "    </tr>\n",
              "    <tr>\n",
              "      <th>1</th>\n",
              "      <td>0</td>\n",
              "      <td>گیره های فلزی خیلی سخت تا میشوند و لذا حوله را...</td>\n",
              "    </tr>\n",
              "    <tr>\n",
              "      <th>2</th>\n",
              "      <td>1</td>\n",
              "      <td>سلام دوستان،،\\r\\nمنم مثه بعضی از دوستان قبل از...</td>\n",
              "    </tr>\n",
              "    <tr>\n",
              "      <th>3</th>\n",
              "      <td>1</td>\n",
              "      <td>من چند سالی هست که این اسپیکرو خریدم و واقعا ح...</td>\n",
              "    </tr>\n",
              "    <tr>\n",
              "      <th>4</th>\n",
              "      <td>1</td>\n",
              "      <td>نزدیک به دو ساله که این هارد رو خریدم. استفاده...</td>\n",
              "    </tr>\n",
              "    <tr>\n",
              "      <th>...</th>\n",
              "      <td>...</td>\n",
              "      <td>...</td>\n",
              "    </tr>\n",
              "    <tr>\n",
              "      <th>53077</th>\n",
              "      <td>0</td>\n",
              "      <td>کاملابی کیفیت، تو هر قیمتی اصلا ارزش خرید نداره</td>\n",
              "    </tr>\n",
              "    <tr>\n",
              "      <th>53078</th>\n",
              "      <td>1</td>\n",
              "      <td>عالیییییییییییییییییییی</td>\n",
              "    </tr>\n",
              "    <tr>\n",
              "      <th>53079</th>\n",
              "      <td>0</td>\n",
              "      <td>اندازه بالش بسیار کوچک هست بیشتر بدرد بچه ۲ سا...</td>\n",
              "    </tr>\n",
              "    <tr>\n",
              "      <th>53080</th>\n",
              "      <td>1</td>\n",
              "      <td>بسیار تمیز و زیبا...من که خیلی راضیم</td>\n",
              "    </tr>\n",
              "    <tr>\n",
              "      <th>53081</th>\n",
              "      <td>1</td>\n",
              "      <td>واکس خوبیه..</td>\n",
              "    </tr>\n",
              "  </tbody>\n",
              "</table>\n",
              "<p>53082 rows × 2 columns</p>\n",
              "</div>\n",
              "      <button class=\"colab-df-convert\" onclick=\"convertToInteractive('df-de56a4e3-2eab-4bb3-938c-bbaa9b206f73')\"\n",
              "              title=\"Convert this dataframe to an interactive table.\"\n",
              "              style=\"display:none;\">\n",
              "        \n",
              "  <svg xmlns=\"http://www.w3.org/2000/svg\" height=\"24px\"viewBox=\"0 0 24 24\"\n",
              "       width=\"24px\">\n",
              "    <path d=\"M0 0h24v24H0V0z\" fill=\"none\"/>\n",
              "    <path d=\"M18.56 5.44l.94 2.06.94-2.06 2.06-.94-2.06-.94-.94-2.06-.94 2.06-2.06.94zm-11 1L8.5 8.5l.94-2.06 2.06-.94-2.06-.94L8.5 2.5l-.94 2.06-2.06.94zm10 10l.94 2.06.94-2.06 2.06-.94-2.06-.94-.94-2.06-.94 2.06-2.06.94z\"/><path d=\"M17.41 7.96l-1.37-1.37c-.4-.4-.92-.59-1.43-.59-.52 0-1.04.2-1.43.59L10.3 9.45l-7.72 7.72c-.78.78-.78 2.05 0 2.83L4 21.41c.39.39.9.59 1.41.59.51 0 1.02-.2 1.41-.59l7.78-7.78 2.81-2.81c.8-.78.8-2.07 0-2.86zM5.41 20L4 18.59l7.72-7.72 1.47 1.35L5.41 20z\"/>\n",
              "  </svg>\n",
              "      </button>\n",
              "      \n",
              "  <style>\n",
              "    .colab-df-container {\n",
              "      display:flex;\n",
              "      flex-wrap:wrap;\n",
              "      gap: 12px;\n",
              "    }\n",
              "\n",
              "    .colab-df-convert {\n",
              "      background-color: #E8F0FE;\n",
              "      border: none;\n",
              "      border-radius: 50%;\n",
              "      cursor: pointer;\n",
              "      display: none;\n",
              "      fill: #1967D2;\n",
              "      height: 32px;\n",
              "      padding: 0 0 0 0;\n",
              "      width: 32px;\n",
              "    }\n",
              "\n",
              "    .colab-df-convert:hover {\n",
              "      background-color: #E2EBFA;\n",
              "      box-shadow: 0px 1px 2px rgba(60, 64, 67, 0.3), 0px 1px 3px 1px rgba(60, 64, 67, 0.15);\n",
              "      fill: #174EA6;\n",
              "    }\n",
              "\n",
              "    [theme=dark] .colab-df-convert {\n",
              "      background-color: #3B4455;\n",
              "      fill: #D2E3FC;\n",
              "    }\n",
              "\n",
              "    [theme=dark] .colab-df-convert:hover {\n",
              "      background-color: #434B5C;\n",
              "      box-shadow: 0px 1px 3px 1px rgba(0, 0, 0, 0.15);\n",
              "      filter: drop-shadow(0px 1px 2px rgba(0, 0, 0, 0.3));\n",
              "      fill: #FFFFFF;\n",
              "    }\n",
              "  </style>\n",
              "\n",
              "      <script>\n",
              "        const buttonEl =\n",
              "          document.querySelector('#df-de56a4e3-2eab-4bb3-938c-bbaa9b206f73 button.colab-df-convert');\n",
              "        buttonEl.style.display =\n",
              "          google.colab.kernel.accessAllowed ? 'block' : 'none';\n",
              "\n",
              "        async function convertToInteractive(key) {\n",
              "          const element = document.querySelector('#df-de56a4e3-2eab-4bb3-938c-bbaa9b206f73');\n",
              "          const dataTable =\n",
              "            await google.colab.kernel.invokeFunction('convertToInteractive',\n",
              "                                                     [key], {});\n",
              "          if (!dataTable) return;\n",
              "\n",
              "          const docLinkHtml = 'Like what you see? Visit the ' +\n",
              "            '<a target=\"_blank\" href=https://colab.research.google.com/notebooks/data_table.ipynb>data table notebook</a>'\n",
              "            + ' to learn more about interactive tables.';\n",
              "          element.innerHTML = '';\n",
              "          dataTable['output_type'] = 'display_data';\n",
              "          await google.colab.output.renderOutput(dataTable, element);\n",
              "          const docLink = document.createElement('div');\n",
              "          docLink.innerHTML = docLinkHtml;\n",
              "          element.appendChild(docLink);\n",
              "        }\n",
              "      </script>\n",
              "    </div>\n",
              "  </div>\n",
              "  "
            ],
            "text/plain": [
              "       recommend                                            comment\n",
              "0              1  سلام، قبل اینکه نظرم رو بگم میخواستم به یک موض...\n",
              "1              0  گیره های فلزی خیلی سخت تا میشوند و لذا حوله را...\n",
              "2              1  سلام دوستان،،\\r\\nمنم مثه بعضی از دوستان قبل از...\n",
              "3              1  من چند سالی هست که این اسپیکرو خریدم و واقعا ح...\n",
              "4              1  نزدیک به دو ساله که این هارد رو خریدم. استفاده...\n",
              "...          ...                                                ...\n",
              "53077          0    کاملابی کیفیت، تو هر قیمتی اصلا ارزش خرید نداره\n",
              "53078          1                            عالیییییییییییییییییییی\n",
              "53079          0  اندازه بالش بسیار کوچک هست بیشتر بدرد بچه ۲ سا...\n",
              "53080          1               بسیار تمیز و زیبا...من که خیلی راضیم\n",
              "53081          1                                       واکس خوبیه..\n",
              "\n",
              "[53082 rows x 2 columns]"
            ]
          },
          "execution_count": 6,
          "metadata": {},
          "output_type": "execute_result"
        }
      ],
      "source": [
        "df[\"recommend\"] = df[\"recommend\"].astype(\"category\").cat.codes\n",
        "df"
      ]
    },
    {
      "cell_type": "code",
      "execution_count": null,
      "metadata": {
        "colab": {
          "base_uri": "https://localhost:8080/",
          "height": 314
        },
        "id": "EOpfKAen9zd3",
        "outputId": "89dfc7c2-20d8-409d-a461-4b361ffe2700"
      },
      "outputs": [
        {
          "name": "stdout",
          "output_type": "stream",
          "text": [
            "1    36972\n",
            "0    16110\n",
            "Name: recommend, dtype: int64\n"
          ]
        },
        {
          "data": {
            "image/png": "[encoded data removed]",
            "text/plain": [
              "<Figure size 432x288 with 1 Axes>"
            ]
          },
          "metadata": {},
          "output_type": "display_data"
        }
      ],
      "source": [
        "recommend_count_values = df[\"recommend\"].value_counts()\n",
        "recommend_count_values.plot(\n",
        "    kind = 'bar'\n",
        ")\n",
        "print(recommend_count_values)"
      ]
    },
    {
      "cell_type": "code",
      "execution_count": null,
      "metadata": {
        "id": "U1OdCKu5UIid"
      },
      "outputs": [],
      "source": [
        "recom = df[df[\"recommend\"]==1].values\n",
        "recom_test_data = recom[:1000]\n",
        "recom = recom[1000:]\n",
        "notrecom = df[df[\"recommend\"]==0].values\n",
        "notrecom_test_data = notrecom[:1000]\n",
        "notrecom = notrecom[1000:]\n",
        "notrecom = np.append(notrecom, notrecom, axis=0)\n",
        "dup_idx = np.random.randint(len(notrecom), size=len(recom)-len(notrecom))\n",
        "notrecom = np.append(notrecom, notrecom[dup_idx], axis=0)\n",
        "balanced = np.vstack((recom, notrecom))\n",
        "balanced_df = pd.DataFrame(balanced, columns=[\"recommend\", \"comment\"])\n",
        "test = np.vstack((recom_test_data, notrecom_test_data))\n",
        "test_df = pd.DataFrame(test, columns=[\"recommend\", \"comment\"])"
      ]
    },
    {
      "cell_type": "code",
      "execution_count": null,
      "metadata": {
        "colab": {
          "base_uri": "https://localhost:8080/",
          "height": 331
        },
        "id": "-rUyFFW_C4g_",
        "outputId": "fceeca5b-eb6f-40ae-b0ac-8813481ad234"
      },
      "outputs": [
        {
          "name": "stdout",
          "output_type": "stream",
          "text": [
            "1    35972\n",
            "0    35972\n",
            "Name: recommend, dtype: int64\n"
          ]
        },
        {
          "data": {
            "text/plain": [
              "<matplotlib.axes._subplots.AxesSubplot at 0x7ff6a1f91a90>"
            ]
          },
          "execution_count": 10,
          "metadata": {},
          "output_type": "execute_result"
        },
        {
          "data": {
            "image/png": "[encoded data removed]",
            "text/plain": [
              "<Figure size 432x288 with 1 Axes>"
            ]
          },
          "metadata": {},
          "output_type": "display_data"
        }
      ],
      "source": [
        "print(balanced_df[\"recommend\"].value_counts())\n",
        "balanced_df[\"recommend\"].value_counts().plot(\n",
        "    kind = \"bar\"\n",
        ")"
      ]
    },
    {
      "cell_type": "code",
      "execution_count": null,
      "metadata": {
        "id": "0drpdhgGYWBO"
      },
      "outputs": [],
      "source": [
        "def remove_nonword(s):\n",
        "    return re.sub(r\"[^\\w\\s]|[a-z]|[A-Z]\", \" \", s)"
      ]
    },
    {
      "cell_type": "code",
      "execution_count": null,
      "metadata": {
        "id": "XK6h148vZYXM"
      },
      "outputs": [],
      "source": [
        "def remove_digits(s):\n",
        "    return re.sub(r\"\\d\", \"\", s)"
      ]
    },
    {
      "cell_type": "code",
      "execution_count": null,
      "metadata": {
        "id": "fj63V7QZZwCI"
      },
      "outputs": [],
      "source": [
        "def remove_ws(s):\n",
        "    return re.sub(r\"\\n|\\r|\\t\", \"\", s)"
      ]
    },
    {
      "cell_type": "code",
      "execution_count": null,
      "metadata": {
        "id": "jMbqOE4xrGHA"
      },
      "outputs": [],
      "source": [
        "def remove_punctuation(s):\n",
        "    return \"\".join([char for char in s if char not in string.punctuation])"
      ]
    },
    {
      "cell_type": "code",
      "execution_count": null,
      "metadata": {
        "id": "4f-vyUhAbnoK"
      },
      "outputs": [],
      "source": [
        "def remove_elongation(s):\n",
        "    return re.sub(r'(.)\\1+', r'\\1', s)"
      ]
    },
    {
      "cell_type": "code",
      "execution_count": null,
      "metadata": {
        "id": "deLc8E4GaQWr"
      },
      "outputs": [],
      "source": [
        "def dummy_preprocess(s):\n",
        "    s = remove_nonword(s)\n",
        "    s = remove_digits(s)\n",
        "    s = remove_ws(s)\n",
        "    s = remove_elongation(s)\n",
        "    s = remove_punctuation(s)\n",
        "    return s"
      ]
    },
    {
      "cell_type": "code",
      "execution_count": null,
      "metadata": {
        "id": "XMjMlRZ8OBhZ"
      },
      "outputs": [],
      "source": [
        "preprocessed_comment = []\n",
        "for idx, row in balanced_df.iterrows():\n",
        "    try:\n",
        "        preprocessed_comment.append(dummy_preprocess(row[\"comment\"]))\n",
        "    except:\n",
        "        balanced_df.drop(idx, inplace=True)"
      ]
    },
    {
      "cell_type": "code",
      "execution_count": null,
      "metadata": {
        "id": "b2aHYlbldUt-"
      },
      "outputs": [],
      "source": [
        "preprocessed_comment_test = []\n",
        "for idx, row in test_df.iterrows():\n",
        "    try:\n",
        "        preprocessed_comment_test.append(dummy_preprocess(row[\"comment\"]))\n",
        "    except:\n",
        "        test_df.drop(idx, inplace=True)"
      ]
    },
    {
      "cell_type": "markdown",
      "metadata": {
        "id": "hxu-gLKHw1Ng"
      },
      "source": [
        "# Normalizing"
      ]
    },
    {
      "cell_type": "code",
      "execution_count": null,
      "metadata": {
        "colab": {
          "base_uri": "https://localhost:8080/"
        },
        "id": "MRekMVLMbXeh",
        "outputId": "e9b3abc7-2824-4822-d24f-ca2543556f16"
      },
      "outputs": [
        {
          "name": "stderr",
          "output_type": "stream",
          "text": [
            "100%|██████████| 71908/71908 [00:42<00:00, 1672.97it/s]\n",
            "100%|██████████| 1999/1999 [00:01<00:00, 1201.12it/s]\n"
          ]
        }
      ],
      "source": [
        "normalizer = hazm.Normalizer()\n",
        "normalized_comments = [[normalizer.normalize(word) for word in comment.split()] for comment in tqdm.tqdm(preprocessed_comment)]\n",
        "normalized_comments_test = [[normalizer.normalize(word) for word in comment.split()] for comment in tqdm.tqdm(preprocessed_comment_test)]"
      ]
    },
    {
      "cell_type": "code",
      "execution_count": null,
      "metadata": {
        "colab": {
          "base_uri": "https://localhost:8080/"
        },
        "id": "hCGtF7kbn6Ls",
        "outputId": "dd0a2035-7d3e-42ac-f0b1-a46e5a47fca6"
      },
      "outputs": [
        {
          "name": "stdout",
          "output_type": "stream",
          "text": [
            "نورش در حد یک لامپ وات نیست حدود وات بیشتر نیست ارزش خرید نداره\n",
            "----------------------------------------------------------------------------------------------------\n",
            "واقعا مسخرست از فروشگاه بامین به اسم قاب سیلیکونی خریدم ولی یه قاب ژله ای شل و وا رفته که اصلا ارزش نداره واسم آوردن متاسفم برای دیجی کالا که دیگه نظارتی نداره\n",
            "----------------------------------------------------------------------------------------------------\n",
            "چند وقتیه خریدم واقعا رازیم ازش تو دست خوب جلوه میکنه\n",
            "----------------------------------------------------------------------------------------------------\n",
            "برخلاف نظرات ثبت شده عالی\n",
            "----------------------------------------------------------------------------------------------------\n",
            "اصلا بوی خاصی استشمام نمیشود و ماندگاری هم ندارد\n",
            "----------------------------------------------------------------------------------------------------\n",
            "شغل من فنی هستش بسیار شمع خوبیه\n",
            "----------------------------------------------------------------------------------------------------\n",
            "بوی گرم و شیرین عالی و خیلی شیک و خاص\n",
            "----------------------------------------------------------------------------------------------------\n",
            "اصلا راضی نبودم\n",
            "----------------------------------------------------------------------------------------------------\n",
            "می چسبه به زمین و اصلا لیز نمی خوره عالیه طرحشم خیلی قشنگه\n",
            "----------------------------------------------------------------------------------------------------\n",
            "آسیب رساندن به فیلتر نو پنداشتن جای دست\n",
            "----------------------------------------------------------------------------------------------------\n"
          ]
        }
      ],
      "source": [
        "for c in random.sample(normalized_comments, 10):\n",
        "    print(' '.join(c), end=f\"\\n{'-'*100}\\n\")"
      ]
    },
    {
      "cell_type": "markdown",
      "metadata": {
        "id": "bwJnWFPs8yRu"
      },
      "source": [
        "#Tokenization"
      ]
    },
    {
      "cell_type": "code",
      "execution_count": null,
      "metadata": {
        "colab": {
          "base_uri": "https://localhost:8080/"
        },
        "id": "RadwScpHyTYL",
        "outputId": "052eda4d-e7a2-42b0-ef32-9d05afe01ada"
      },
      "outputs": [
        {
          "name": "stderr",
          "output_type": "stream",
          "text": [
            "100%|██████████| 71908/71908 [00:02<00:00, 33017.66it/s]\n",
            "100%|██████████| 1999/1999 [00:00<00:00, 28429.07it/s]\n"
          ]
        }
      ],
      "source": [
        "normalized_comments = [' '.join(comment) for comment in normalized_comments]\n",
        "normalized_comments_test = [' '.join(comment) for comment in normalized_comments_test]\n",
        "comments_tokens = [hazm.word_tokenize(comment) for comment in tqdm.tqdm(normalized_comments)]\n",
        "comments_tokens_test = [hazm.word_tokenize(comment) for comment in tqdm.tqdm(normalized_comments_test)]"
      ]
    },
    {
      "cell_type": "markdown",
      "metadata": {
        "id": "pKRom56EDqVp"
      },
      "source": [
        "#Adjusting hazm stop-words"
      ]
    },
    {
      "cell_type": "code",
      "execution_count": 5,
      "metadata": {
        "id": "vqzmtcLD9TxD"
      },
      "outputs": [],
      "source": [
        "# with open(\"/content/drive/MyDrive/NLP_HW2_Data/comments_frequent_tokens.txt\", \"w\") as file:\n",
        "#     for token, _ in FreqDist(list(itertools.chain(*comments_tokens))).most_common(100):\n",
        "#         file.write(token+'\\n')\n",
        "\n",
        "# with open(\"/content/drive/MyDrive/NLP_HW2_Data/fa_stopwords.txt\") as stopwords_file:    \n",
        "#     stopwords = stopwords_file.read().split()\n",
        "# with open(\"/content/drive/MyDrive/NLP_HW2_Data/fa_stopwords.txt\", \"a\") as stopwords_file:    \n",
        "#     try:\n",
        "#         with open(\"/content/drive/MyDrive/NLP_HW2_Data/comments_frequent_tokens_reviewed.txt\", \"r\") as frequent_tokens:\n",
        "#             for token in frequent_tokens:\n",
        "#                 if token.strip() not in stopwords:\n",
        "#                     stopwords_file.write(token)\n",
        "#     except:\n",
        "#         with open(\"/content/drive/MyDrive/NLP_HW2_Data/comments_frequent_tokens.txt\", \"r\") as frequent_tokens:\n",
        "#             for token in frequent_tokens:\n",
        "#                 if token.strip() not in stopwords:\n",
        "#                     stopwords_file.write(token+'\\n')\n",
        "\n",
        "with open(\"fa_stopwords.txt\") as stopwords_file:    \n",
        "# with open(\"/content/drive/MyDrive/NLP_HW2_Data/fa_stopwords.txt\") as stopwords_file:    \n",
        "    stopwords = stopwords_file.read().split()"
      ]
    },
    {
      "cell_type": "markdown",
      "metadata": {
        "id": "BzIpbqhMIX3Z"
      },
      "source": [
        "#Removing stop-words"
      ]
    },
    {
      "cell_type": "code",
      "execution_count": null,
      "metadata": {
        "colab": {
          "base_uri": "https://localhost:8080/"
        },
        "id": "yKKzHzIoGfaM",
        "outputId": "11a7fb68-e525-46df-cca9-41894cbc7b0f"
      },
      "outputs": [
        {
          "name": "stderr",
          "output_type": "stream",
          "text": [
            "100%|██████████| 71908/71908 [00:11<00:00, 6372.49it/s]\n",
            "100%|██████████| 1999/1999 [00:00<00:00, 5093.22it/s]\n"
          ]
        }
      ],
      "source": [
        "nonstop_comments_tokens = [[token for token in comment if token not in stopwords] for comment in tqdm.tqdm(comments_tokens)]\n",
        "nonstop_comments_tokens_test = [[token for token in comment if token not in stopwords] for comment in tqdm.tqdm(comments_tokens_test)]"
      ]
    },
    {
      "cell_type": "markdown",
      "metadata": {
        "id": "c_oDjO7SYn_j"
      },
      "source": [
        "# Lemmatization \n",
        "* it seems that it is not a proper startegy. "
      ]
    },
    {
      "cell_type": "code",
      "execution_count": null,
      "metadata": {
        "id": "VUrMCb1HLIzS"
      },
      "outputs": [],
      "source": [
        "lemmatizer = hazm.Lemmatizer()"
      ]
    },
    {
      "cell_type": "code",
      "execution_count": null,
      "metadata": {
        "colab": {
          "base_uri": "https://localhost:8080/"
        },
        "id": "p3oK2o4EWwR6",
        "outputId": "97591195-645e-4aec-8fbd-dac438cc3091"
      },
      "outputs": [
        {
          "name": "stderr",
          "output_type": "stream",
          "text": [
            "100%|██████████| 71908/71908 [00:01<00:00, 43638.79it/s]\n",
            "100%|██████████| 1999/1999 [00:00<00:00, 31388.43it/s]\n"
          ]
        }
      ],
      "source": [
        "lemmatized_tokens = [[lemmatizer.lemmatize(token) for token in comment] for comment in tqdm.tqdm(nonstop_comments_tokens)]\n",
        "lemmatized_tokens_test = [[lemmatizer.lemmatize(token) for token in comment] for comment in tqdm.tqdm(nonstop_comments_tokens_test)]"
      ]
    },
    {
      "cell_type": "code",
      "execution_count": null,
      "metadata": {
        "colab": {
          "base_uri": "https://localhost:8080/"
        },
        "id": "P9GsCs49XBvS",
        "outputId": "70aeafcc-cce2-4eae-8914-b465e70738cc"
      },
      "outputs": [
        {
          "name": "stdout",
          "output_type": "stream",
          "text": [
            "مدل ارزان قیمته انتظار مشکل سیم کارت نم خوند سیم کارت تماس منتظر مرجوع شه برد#بر معتبر تر پیشنهاد میدم مثلا سامسونگ رده مشکل اکثر سالم\n",
            "----------------------------------------------------------------------------------------------------\n",
            "صدا محیط کنه طوری نمیشه شنید#شنو واسه درس خوندن استفاده عالیه\n",
            "----------------------------------------------------------------------------------------------------\n",
            "کیف پیشنهاذ پشیمونم کیفیت نا مرغوب استفاده برام\n",
            "----------------------------------------------------------------------------------------------------\n",
            "حد نصب سختی مکافات انداخت#انداز خواست#خواه روز برش داشت#دار بامپر تمامه\n",
            "----------------------------------------------------------------------------------------------------\n",
            "طرح لباس عکس کوچیکه\n",
            "----------------------------------------------------------------------------------------------------\n",
            "اینو خریدمهم خوشگله سایز جنس خوبهاستند\n",
            "----------------------------------------------------------------------------------------------------\n",
            "کیفیت نامرغوب استفاده اینستال شرکت پرنیان پاسخگو عنوان شرکت کرد#کن\n",
            "----------------------------------------------------------------------------------------------------\n",
            "طعم بایودنت کردمیکی عالیه خاطر لطیف مزه اشیکی صورت سری بابل\n",
            "----------------------------------------------------------------------------------------------------\n",
            "قهوه\n",
            "----------------------------------------------------------------------------------------------------\n",
            "کیفیت مطلوب\n",
            "----------------------------------------------------------------------------------------------------\n"
          ]
        }
      ],
      "source": [
        "for c in random.sample(lemmatized_tokens, 10):\n",
        "    print(' '.join(c), end=f\"\\n{'-'*100}\\n\")"
      ]
    },
    {
      "cell_type": "code",
      "execution_count": null,
      "metadata": {
        "colab": {
          "base_uri": "https://localhost:8080/"
        },
        "id": "wJ4U0CzFbdB_",
        "outputId": "192f6138-d77e-498a-d814-a1caa846884c"
      },
      "outputs": [
        {
          "name": "stderr",
          "output_type": "stream",
          "text": [
            "100%|██████████| 71908/71908 [00:00<00:00, 181985.16it/s]\n",
            "100%|██████████| 1999/1999 [00:00<00:00, 425345.66it/s]\n"
          ]
        }
      ],
      "source": [
        "lemmatized_tokens = [[token for token in comment if '#' not in token] for comment in tqdm.tqdm(lemmatized_tokens)]\n",
        "lemmatized_tokens_test = [[token for token in comment if '#' not in token] for comment in tqdm.tqdm(lemmatized_tokens_test)]"
      ]
    },
    {
      "cell_type": "code",
      "execution_count": null,
      "metadata": {
        "colab": {
          "base_uri": "https://localhost:8080/"
        },
        "id": "xxMz34TyeAZ3",
        "outputId": "78d8162b-cd83-4bcd-8d2d-5f24cb61e151"
      },
      "outputs": [
        {
          "name": "stdout",
          "output_type": "stream",
          "text": [
            "بو آزار دهنده میشد ارفاق تحمل\n",
            "----------------------------------------------------------------------------------------------------\n",
            "کیفیت شستن کوچیک\n",
            "----------------------------------------------------------------------------------------------------\n",
            "ارزش\n",
            "----------------------------------------------------------------------------------------------------\n",
            "کیفیت انتظار مرغوب تر تحویل\n",
            "----------------------------------------------------------------------------------------------------\n",
            "تازه خریدمش گزینه بخار پز برنج استفاده راضیم خصوصا ته دیگ درست\n",
            "----------------------------------------------------------------------------------------------------\n",
            "کاور زبره سمباده دون دونه شه دستون لیز نخوره دستشون عرق کنه اکثر کاور خشک سیلیکون دکمه صدا نم پوشونه پاین گوشیو حد پوشونه خوب اینه دسترس شارژر جک هدفون مشکل ندارین صدا اسپیکر کیفیت میکروفون نم کنه بد اینه زوایا خاص زمین بخوره مکنه آسیب بینه یکم بالاس راضی پیشنهاد\n",
            "----------------------------------------------------------------------------------------------------\n",
            "بو بدی میده بو عطر شاه عبدالعظیم میده عطر مونده پول بد اسپری قطره ایه\n",
            "----------------------------------------------------------------------------------------------------\n",
            "راضی\n",
            "----------------------------------------------------------------------------------------------------\n",
            "درب فلاسک همینطور بدنه خط خش جداره بیرونی فاسک آب داغ داغ میشود توجه خلا جداره قبول\n",
            "----------------------------------------------------------------------------------------------------\n",
            "سرعت پاین خواندن اطلاعاتخراب نشان عکس فیلم ضبط\n",
            "----------------------------------------------------------------------------------------------------\n"
          ]
        }
      ],
      "source": [
        "for c in random.sample(lemmatized_tokens, 10):\n",
        "    print(' '.join(c), end=f\"\\n{'-'*100}\\n\")"
      ]
    },
    {
      "cell_type": "markdown",
      "metadata": {
        "id": "wPBhP-bcf5BF"
      },
      "source": [
        "#Stemming"
      ]
    },
    {
      "cell_type": "code",
      "execution_count": null,
      "metadata": {
        "id": "b3_lTlYTeLt6"
      },
      "outputs": [],
      "source": [
        "# stemmer = hazm.Stemmer()\n",
        "# stemmed_tokens = [[stemmer.stem(token) for token in comment] for comment in tqdm.tqdm(nonstop_comments_tokens)]"
      ]
    },
    {
      "cell_type": "code",
      "execution_count": null,
      "metadata": {
        "id": "YAa3gOOXgIU2"
      },
      "outputs": [],
      "source": [
        "# for c in random.sample(stemmed_tokens, 10):\n",
        "#     print(' '.join(c), end=f\"\\n{'-'*100}\\n\")"
      ]
    },
    {
      "cell_type": "code",
      "execution_count": null,
      "metadata": {
        "id": "z8BHFxRhgLKo"
      },
      "outputs": [],
      "source": [
        "# for c in random.sample(nonstop_comments_tokens, 10):\n",
        "#     print(' '.join(c), end=f\"\\n{'-'*100}\\n\")"
      ]
    },
    {
      "cell_type": "markdown",
      "metadata": {
        "id": "PegOZlWY9Cjz"
      },
      "source": [
        "#Creating vocab"
      ]
    },
    {
      "cell_type": "code",
      "execution_count": null,
      "metadata": {
        "id": "EqhI2PSnhDQ2"
      },
      "outputs": [],
      "source": [
        "# itos\n",
        "itos = [\"<PAD>\", \"<SOS>\", \"<EOS>\", \"<UNK>\"]\n",
        "itos.extend(list(set(itertools.chain(*nonstop_comments_tokens))))\n",
        "itos.extend(list(set(itertools.chain(*nonstop_comments_tokens_test))))\n",
        "itos = list(set(itos))\n",
        "# stoi\n",
        "stoi = {token: idx for idx, token in enumerate(itos)}"
      ]
    },
    {
      "cell_type": "code",
      "execution_count": null,
      "metadata": {
        "colab": {
          "base_uri": "https://localhost:8080/"
        },
        "id": "G2LpgfXG_Hog",
        "outputId": "36b0d05a-35f0-4a50-f83b-ecb7ec4fae53"
      },
      "outputs": [
        {
          "name": "stdout",
          "output_type": "stream",
          "text": [
            "8.0\n",
            "12.31018801802303\n"
          ]
        }
      ],
      "source": [
        "lengths = np.array([len(comment) for comment in nonstop_comments_tokens])\n",
        "print(np.median(lengths))\n",
        "print(np.mean(lengths))\n"
      ]
    },
    {
      "cell_type": "code",
      "execution_count": null,
      "metadata": {
        "id": "46O9Qx-zDieg"
      },
      "outputs": [],
      "source": [
        "seq_len = 10"
      ]
    },
    {
      "cell_type": "code",
      "execution_count": null,
      "metadata": {
        "id": "w1DBaZ9TKMBt"
      },
      "outputs": [],
      "source": [
        "def encode_pad(comment, length):\n",
        "    sos = [stoi[\"<SOS>\"]]\n",
        "    eos = [stoi[\"<EOS>\"]]\n",
        "    pad = [stoi[\"<PAD>\"]]\n",
        "    unk = [stoi[\"<UNK>\"]]\n",
        "    if len(comment) < length-2:\n",
        "        n_pads = length-2-len(comment)\n",
        "        encoded = [stoi.get(token, 3) for token in comment]\n",
        "        return sos + encoded + eos + pad*n_pads\n",
        "    else:\n",
        "        encoded = [stoi.get(token, 3) for token in comment]\n",
        "        truncated = encoded[:length-2]\n",
        "        return sos + truncated + eos"
      ]
    },
    {
      "cell_type": "code",
      "execution_count": null,
      "metadata": {
        "id": "hYqCD18kNbAL"
      },
      "outputs": [],
      "source": [
        "encoded_comments = [encode_pad(comment, seq_len) for comment in nonstop_comments_tokens]\n",
        "encoded_comments_test = [encode_pad(comment, seq_len) for comment in nonstop_comments_tokens_test]\n",
        "\n",
        "labels = balanced_df[\"recommend\"].values\n",
        "labels_test = test_df[\"recommend\"].values\n",
        "\n",
        "train_x = np.array(encoded_comments)\n",
        "train_y = labels.astype(int)\n",
        "test_x = np.array(encoded_comments_test)\n",
        "test_y = labels_test.astype(int)\n",
        "\n",
        "train_ds = TensorDataset(torch.from_numpy(train_x), torch.from_numpy(train_y).type(torch.float))\n",
        "test_ds = TensorDataset(torch.from_numpy(test_x), torch.from_numpy(test_y).type(torch.float))\n",
        "\n",
        "train_loader = DataLoader(train_ds, shuffle=True, batch_size=50, drop_last = True)\n",
        "test_loader = DataLoader(test_ds, shuffle=True, batch_size=50, drop_last=True)"
      ]
    },
    {
      "cell_type": "code",
      "execution_count": null,
      "metadata": {
        "id": "8PzxbPCDPeu8"
      },
      "outputs": [],
      "source": [
        "class LSTM(nn.Module):\n",
        "    def __init__(self, vocab_size, embedding_dim, hidden_dim, dropout):\n",
        "        super().__init__()\n",
        "        self.embedding = nn.Embedding(vocab_size, embedding_dim, padding_idx=0)\n",
        "        self.lstm = nn.LSTM(embedding_dim, hidden_dim, batch_first=True)\n",
        "        self.dropout = nn.Dropout(dropout)\n",
        "        self.fc = nn.Linear(hidden_dim, 1)\n",
        "        self.sigmoid = nn.Sigmoid()\n",
        "\n",
        "    def forward(self, x):\n",
        "        embedded = self.embedding(x)\n",
        "        out, hidden = self.lstm(embedded)\n",
        "        out = self.dropout(out)\n",
        "        out = self.fc(out)\n",
        "        out = out[:, -1]\n",
        "        out = self.sigmoid(out)\n",
        "        return out"
      ]
    },
    {
      "cell_type": "code",
      "execution_count": null,
      "metadata": {
        "id": "Jn6OGyasU_z2"
      },
      "outputs": [],
      "source": [
        "class RNN(nn.Module):\n",
        "    def __init__(self, vocab_size, embedding_dim, hidden_dim, dropout):\n",
        "        super().__init__()\n",
        "        self.embedding = nn.Embedding(vocab_size, embedding_dim, padding_idx=0)\n",
        "        self.rnn = nn.RNN(embedding_dim, hidden_dim, batch_first=True)\n",
        "        self.dropout = nn.Dropout(dropout)\n",
        "        self.fc = nn.Linear(hidden_dim, 1)\n",
        "        self.sigmoid = nn.Sigmoid()\n",
        "    \n",
        "    def forward(self, x):\n",
        "        embedded = self.embedding(x)\n",
        "        out, hidden = self.rnn(embedded)\n",
        "        out = self.dropout(out)\n",
        "        out = self.fc(out)\n",
        "        out = out[:, -1]\n",
        "        out = self.sigmoid(out)\n",
        "        return out"
      ]
    },
    {
      "cell_type": "code",
      "execution_count": null,
      "metadata": {
        "id": "Bsho3slWagwW"
      },
      "outputs": [],
      "source": [
        "class GRU(nn.Module):\n",
        "    def __init__(self, vocab_size, embedding_dim, hidden_dim, dropout):\n",
        "        super().__init__()\n",
        "        self.embedding = nn.Embedding(vocab_size, embedding_dim, padding_idx=0)\n",
        "        self.gru = nn.GRU(embedding_dim, hidden_dim, batch_first=True)\n",
        "        self.dropout = nn.Dropout(dropout)\n",
        "        self.fc = nn.Linear(hidden_dim, 1)\n",
        "        self.sigmoid = nn.Sigmoid()\n",
        "\n",
        "    def forward(self, x):\n",
        "        embedded = self.embedding(x)\n",
        "        out, hidden = self.gru(embedded)\n",
        "        out = self.dropout(out)\n",
        "        out = self.fc(out)\n",
        "        out = out[:, -1]\n",
        "        out = self.sigmoid(out)\n",
        "        return out\n"
      ]
    },
    {
      "cell_type": "code",
      "execution_count": null,
      "metadata": {
        "colab": {
          "base_uri": "https://localhost:8080/"
        },
        "id": "RpJ2JP6sPghv",
        "outputId": "e5909612-9ad0-4a86-8cf3-5dd758bca38c"
      },
      "outputs": [
        {
          "name": "stdout",
          "output_type": "stream",
          "text": [
            "Using cuda device.\n"
          ]
        }
      ],
      "source": [
        "device = 'cuda' if torch.cuda.is_available() else 'cpu'\n",
        "print(f\"Using {device} device.\")\n",
        "\n",
        "model_lstm = LSTM(len(stoi), 100, 8, 0.5)\n",
        "model_lstm = model_lstm.to(device)\n",
        "\n",
        "model_rnn = RNN(len(stoi), 64, 32, 0.3)\n",
        "model_rnn = model_rnn.to(device)\n",
        "\n",
        "model_gru = GRU(len(stoi), 64, 32, 0.3)\n",
        "model_gru = model_gru.to(device)\n",
        "\n",
        "model = model_lstm\n",
        "criterion = nn.BCELoss()\n",
        "optimizer = torch.optim.Adam(model.parameters(), lr=3e-4)"
      ]
    },
    {
      "cell_type": "code",
      "execution_count": null,
      "metadata": {
        "id": "NgVvgUMhWdqT"
      },
      "outputs": [],
      "source": [
        "def train(dataloader, model, loss_fn, optimizer):\n",
        "    size = len(dataloader.dataset)\n",
        "    model.train()\n",
        "    train_loss = 0\n",
        "    n_batches = len(dataloader)\n",
        "    for batch, (X, y) in enumerate(dataloader):\n",
        "        X, y = X.to(device), y.to(device)\n",
        "        pred = model(X).flatten()\n",
        "        loss = loss_fn(pred, y)\n",
        "        train_loss += loss.item()\n",
        "        optimizer.zero_grad()\n",
        "        loss.backward()\n",
        "        optimizer.step()\n",
        "        if (batch+1) % 50 == 0:\n",
        "            loss, current = loss.item(), (batch+1)*len(X)\n",
        "            print(f\"loss: {loss:>7f} | [{current:>5d}/{size:>5d}]\")\n",
        "        \n",
        "    train_loss /= n_batches\n",
        "    return train_loss\n",
        "\n",
        "    return loss\n",
        "def eval(dataloader, model, loss_fn):\n",
        "    n_batches = len(dataloader)\n",
        "    model.eval()\n",
        "    eval_loss = 0\n",
        "    with torch.no_grad():\n",
        "        for X, y in dataloader:\n",
        "            X, y = X.to(device), y.to(device)\n",
        "            pred = model(X).flatten()\n",
        "            eval_loss += loss_fn(pred, y).item()\n",
        "    eval_loss /= n_batches\n",
        "    print(f\"Eval Error: \\n Avg loss: {eval_loss:>8f} \\n\")\n",
        "    return eval_loss"
      ]
    },
    {
      "cell_type": "code",
      "execution_count": null,
      "metadata": {
        "colab": {
          "base_uri": "https://localhost:8080/"
        },
        "id": "zov6Lb0XH0jP",
        "outputId": "f7df2567-73c6-4de8-bfe5-47643112b94b"
      },
      "outputs": [
        {
          "name": "stdout",
          "output_type": "stream",
          "text": [
            "Epoch 1\n",
            "----------------------------------------\n",
            "loss: 0.682087 | [ 2500/71908]\n",
            "loss: 0.715048 | [ 5000/71908]\n",
            "loss: 0.701735 | [ 7500/71908]\n",
            "loss: 0.727897 | [10000/71908]\n",
            "loss: 0.668807 | [12500/71908]\n",
            "loss: 0.701063 | [15000/71908]\n",
            "loss: 0.711088 | [17500/71908]\n",
            "loss: 0.659073 | [20000/71908]\n",
            "loss: 0.714061 | [22500/71908]\n",
            "loss: 0.653307 | [25000/71908]\n",
            "loss: 0.641331 | [27500/71908]\n",
            "loss: 0.629296 | [30000/71908]\n",
            "loss: 0.568188 | [32500/71908]\n",
            "loss: 0.632466 | [35000/71908]\n",
            "loss: 0.505164 | [37500/71908]\n",
            "loss: 0.429548 | [40000/71908]\n",
            "loss: 0.540984 | [42500/71908]\n",
            "loss: 0.536248 | [45000/71908]\n",
            "loss: 0.562815 | [47500/71908]\n",
            "loss: 0.433371 | [50000/71908]\n",
            "loss: 0.451902 | [52500/71908]\n",
            "loss: 0.491189 | [55000/71908]\n",
            "loss: 0.511015 | [57500/71908]\n",
            "loss: 0.494495 | [60000/71908]\n",
            "loss: 0.582683 | [62500/71908]\n",
            "loss: 0.551893 | [65000/71908]\n",
            "loss: 0.585357 | [67500/71908]\n",
            "loss: 0.450725 | [70000/71908]\n",
            "Eval Error: \n",
            " Avg loss: 0.573382 \n",
            "\n",
            "Epoch 2\n",
            "----------------------------------------\n",
            "loss: 0.426148 | [ 2500/71908]\n",
            "loss: 0.417272 | [ 5000/71908]\n",
            "loss: 0.422460 | [ 7500/71908]\n",
            "loss: 0.725818 | [10000/71908]\n",
            "loss: 0.309716 | [12500/71908]\n",
            "loss: 0.474145 | [15000/71908]\n",
            "loss: 0.423848 | [17500/71908]\n",
            "loss: 0.343397 | [20000/71908]\n",
            "loss: 0.454597 | [22500/71908]\n",
            "loss: 0.430364 | [25000/71908]\n",
            "loss: 0.306373 | [27500/71908]\n",
            "loss: 0.461934 | [30000/71908]\n",
            "loss: 0.338733 | [32500/71908]\n",
            "loss: 0.456195 | [35000/71908]\n",
            "loss: 0.369043 | [37500/71908]\n",
            "loss: 0.417562 | [40000/71908]\n",
            "loss: 0.472465 | [42500/71908]\n",
            "loss: 0.459914 | [45000/71908]\n",
            "loss: 0.421843 | [47500/71908]\n",
            "loss: 0.384778 | [50000/71908]\n",
            "loss: 0.463148 | [52500/71908]\n",
            "loss: 0.441832 | [55000/71908]\n",
            "loss: 0.361471 | [57500/71908]\n",
            "loss: 0.462641 | [60000/71908]\n",
            "loss: 0.340649 | [62500/71908]\n",
            "loss: 0.358769 | [65000/71908]\n",
            "loss: 0.565451 | [67500/71908]\n",
            "loss: 0.400384 | [70000/71908]\n",
            "Eval Error: \n",
            " Avg loss: 0.552214 \n",
            "\n",
            "Epoch 3\n",
            "----------------------------------------\n",
            "loss: 0.380259 | [ 2500/71908]\n",
            "loss: 0.364141 | [ 5000/71908]\n",
            "loss: 0.393121 | [ 7500/71908]\n",
            "loss: 0.376306 | [10000/71908]\n",
            "loss: 0.369763 | [12500/71908]\n",
            "loss: 0.368787 | [15000/71908]\n",
            "loss: 0.330736 | [17500/71908]\n",
            "loss: 0.356044 | [20000/71908]\n",
            "loss: 0.382574 | [22500/71908]\n",
            "loss: 0.386406 | [25000/71908]\n",
            "loss: 0.325636 | [27500/71908]\n",
            "loss: 0.397852 | [30000/71908]\n",
            "loss: 0.390375 | [32500/71908]\n",
            "loss: 0.491842 | [35000/71908]\n",
            "loss: 0.379800 | [37500/71908]\n",
            "loss: 0.317101 | [40000/71908]\n",
            "loss: 0.305710 | [42500/71908]\n",
            "loss: 0.209226 | [45000/71908]\n",
            "loss: 0.284666 | [47500/71908]\n",
            "loss: 0.348831 | [50000/71908]\n",
            "loss: 0.409855 | [52500/71908]\n",
            "loss: 0.328497 | [55000/71908]\n",
            "loss: 0.246068 | [57500/71908]\n",
            "loss: 0.395767 | [60000/71908]\n",
            "loss: 0.329107 | [62500/71908]\n",
            "loss: 0.398970 | [65000/71908]\n",
            "loss: 0.337676 | [67500/71908]\n",
            "loss: 0.318385 | [70000/71908]\n",
            "Eval Error: \n",
            " Avg loss: 0.566878 \n",
            "\n",
            "Epoch 4\n",
            "----------------------------------------\n",
            "loss: 0.467387 | [ 2500/71908]\n",
            "loss: 0.344573 | [ 5000/71908]\n",
            "loss: 0.388922 | [ 7500/71908]\n",
            "loss: 0.397623 | [10000/71908]\n",
            "loss: 0.283889 | [12500/71908]\n",
            "loss: 0.458469 | [15000/71908]\n",
            "loss: 0.225058 | [17500/71908]\n",
            "loss: 0.357388 | [20000/71908]\n",
            "loss: 0.318014 | [22500/71908]\n",
            "loss: 0.322263 | [25000/71908]\n",
            "loss: 0.264590 | [27500/71908]\n",
            "loss: 0.420535 | [30000/71908]\n",
            "loss: 0.465141 | [32500/71908]\n",
            "loss: 0.345045 | [35000/71908]\n",
            "loss: 0.489957 | [37500/71908]\n",
            "loss: 0.388809 | [40000/71908]\n",
            "loss: 0.188443 | [42500/71908]\n",
            "loss: 0.270962 | [45000/71908]\n",
            "loss: 0.189834 | [47500/71908]\n",
            "loss: 0.352972 | [50000/71908]\n",
            "loss: 0.433931 | [52500/71908]\n",
            "loss: 0.351676 | [55000/71908]\n",
            "loss: 0.319003 | [57500/71908]\n",
            "loss: 0.323967 | [60000/71908]\n",
            "loss: 0.282301 | [62500/71908]\n",
            "loss: 0.301335 | [65000/71908]\n",
            "loss: 0.411938 | [67500/71908]\n",
            "loss: 0.311901 | [70000/71908]\n",
            "Eval Error: \n",
            " Avg loss: 0.583718 \n",
            "\n",
            "Epoch 5\n",
            "----------------------------------------\n",
            "loss: 0.222022 | [ 2500/71908]\n",
            "loss: 0.287115 | [ 5000/71908]\n",
            "loss: 0.222776 | [ 7500/71908]\n",
            "loss: 0.242789 | [10000/71908]\n",
            "loss: 0.304983 | [12500/71908]\n",
            "loss: 0.237300 | [15000/71908]\n",
            "loss: 0.307711 | [17500/71908]\n",
            "loss: 0.317073 | [20000/71908]\n",
            "loss: 0.219523 | [22500/71908]\n",
            "loss: 0.515396 | [25000/71908]\n",
            "loss: 0.487120 | [27500/71908]\n",
            "loss: 0.302783 | [30000/71908]\n",
            "loss: 0.231555 | [32500/71908]\n",
            "loss: 0.293763 | [35000/71908]\n",
            "loss: 0.316767 | [37500/71908]\n",
            "loss: 0.384256 | [40000/71908]\n",
            "loss: 0.326540 | [42500/71908]\n",
            "loss: 0.333659 | [45000/71908]\n",
            "loss: 0.343888 | [47500/71908]\n",
            "loss: 0.335940 | [50000/71908]\n",
            "loss: 0.254248 | [52500/71908]\n",
            "loss: 0.258460 | [55000/71908]\n",
            "loss: 0.314287 | [57500/71908]\n",
            "loss: 0.223590 | [60000/71908]\n",
            "loss: 0.262941 | [62500/71908]\n",
            "loss: 0.393975 | [65000/71908]\n",
            "loss: 0.347728 | [67500/71908]\n",
            "loss: 0.302896 | [70000/71908]\n",
            "Eval Error: \n",
            " Avg loss: 0.616883 \n",
            "\n",
            "Epoch 6\n",
            "----------------------------------------\n",
            "loss: 0.216565 | [ 2500/71908]\n",
            "loss: 0.466938 | [ 5000/71908]\n",
            "loss: 0.364819 | [ 7500/71908]\n",
            "loss: 0.196442 | [10000/71908]\n",
            "loss: 0.231899 | [12500/71908]\n",
            "loss: 0.193319 | [15000/71908]\n",
            "loss: 0.295782 | [17500/71908]\n",
            "loss: 0.303081 | [20000/71908]\n",
            "loss: 0.359857 | [22500/71908]\n",
            "loss: 0.356978 | [25000/71908]\n",
            "loss: 0.250107 | [27500/71908]\n",
            "loss: 0.181150 | [30000/71908]\n",
            "loss: 0.319978 | [32500/71908]\n",
            "loss: 0.294464 | [35000/71908]\n",
            "loss: 0.256963 | [37500/71908]\n",
            "loss: 0.215716 | [40000/71908]\n",
            "loss: 0.335350 | [42500/71908]\n",
            "loss: 0.261272 | [45000/71908]\n",
            "loss: 0.208968 | [47500/71908]\n",
            "loss: 0.249680 | [50000/71908]\n",
            "loss: 0.222386 | [52500/71908]\n",
            "loss: 0.369795 | [55000/71908]\n",
            "loss: 0.284661 | [57500/71908]\n",
            "loss: 0.180575 | [60000/71908]\n",
            "loss: 0.434733 | [62500/71908]\n",
            "loss: 0.285912 | [65000/71908]\n",
            "loss: 0.187999 | [67500/71908]\n",
            "loss: 0.271624 | [70000/71908]\n",
            "Eval Error: \n",
            " Avg loss: 0.637671 \n",
            "\n"
          ]
        }
      ],
      "source": [
        "n_epochs = 50\n",
        "val_losses = []\n",
        "train_losses = []\n",
        "for e in range(n_epochs):\n",
        "    print(f\"Epoch {e+1}\\n{'-'*40}\")\n",
        "    train_loss = train(train_loader, model, criterion, optimizer)\n",
        "    val_loss = eval(test_loader, model, criterion)\n",
        "    val_losses.append(val_loss)\n",
        "    train_losses.append(train_loss)\n",
        "    if val_loss > 0.6 and train_loss <0.3:\n",
        "        break"
      ]
    },
    {
      "cell_type": "code",
      "execution_count": null,
      "metadata": {
        "colab": {
          "base_uri": "https://localhost:8080/",
          "height": 542
        },
        "id": "s0kE-ZUxJrFG",
        "outputId": "80d5b30f-fb0b-4f3f-a6dd-fd60bb91912c"
      },
      "outputs": [
        {
          "data": {
            "text/html": [
              "<html>\n",
              "<head><meta charset=\"utf-8\" /></head>\n",
              "<body>\n",
              "    <div>            <script src=\"https://cdnjs.cloudflare.com/ajax/libs/mathjax/2.7.5/MathJax.js?config=TeX-AMS-MML_SVG\"></script><script type=\"text/javascript\">if (window.MathJax) {MathJax.Hub.Config({SVG: {font: \"STIX-Web\"}});}</script>                <script type=\"text/javascript\">window.PlotlyConfig = {MathJaxConfig: 'local'};</script>\n",
              "        <script src=\"https://cdn.plot.ly/plotly-2.8.3.min.js\"></script>                <div id=\"867fbd99-3477-4f4e-9e82-b39d34da5c61\" class=\"plotly-graph-div\" style=\"height:525px; width:100%;\"></div>            <script type=\"text/javascript\">                                    window.PLOTLYENV=window.PLOTLYENV || {};                                    if (document.getElementById(\"867fbd99-3477-4f4e-9e82-b39d34da5c61\")) {                    Plotly.newPlot(                        \"867fbd99-3477-4f4e-9e82-b39d34da5c61\",                        [{\"hovertemplate\":\"variable=wide_variable_0<br>x=%{x}<br>value=%{y}<extra></extra>\",\"legendgroup\":\"wide_variable_0\",\"line\":{\"color\":\"#636efa\",\"dash\":\"solid\"},\"marker\":{\"symbol\":\"circle\"},\"mode\":\"lines\",\"name\":\"wide_variable_0\",\"orientation\":\"v\",\"showlegend\":true,\"x\":[1,2,3,4,5,6],\"xaxis\":\"x\",\"y\":[0.5907323904470211,0.432218136009404,0.37742483334017396,0.3381733481405673,0.3078197715791028,0.27883478276359025],\"yaxis\":\"y\",\"type\":\"scatter\"},{\"hovertemplate\":\"variable=wide_variable_1<br>x=%{x}<br>value=%{y}<extra></extra>\",\"legendgroup\":\"wide_variable_1\",\"line\":{\"color\":\"#EF553B\",\"dash\":\"solid\"},\"marker\":{\"symbol\":\"circle\"},\"mode\":\"lines\",\"name\":\"wide_variable_1\",\"orientation\":\"v\",\"showlegend\":true,\"x\":[1,2,3,4,5,6],\"xaxis\":\"x\",\"y\":[0.5733822973874899,0.5522143389934149,0.5668780948871222,0.583718071381251,0.6168825328350067,0.6376705994972816],\"yaxis\":\"y\",\"type\":\"scatter\"}],                        {\"template\":{\"data\":{\"bar\":[{\"error_x\":{\"color\":\"#2a3f5f\"},\"error_y\":{\"color\":\"#2a3f5f\"},\"marker\":{\"line\":{\"color\":\"#E5ECF6\",\"width\":0.5},\"pattern\":{\"fillmode\":\"overlay\",\"size\":10,\"solidity\":0.2}},\"type\":\"bar\"}],\"barpolar\":[{\"marker\":{\"line\":{\"color\":\"#E5ECF6\",\"width\":0.5},\"pattern\":{\"fillmode\":\"overlay\",\"size\":10,\"solidity\":0.2}},\"type\":\"barpolar\"}],\"carpet\":[{\"aaxis\":{\"endlinecolor\":\"#2a3f5f\",\"gridcolor\":\"white\",\"linecolor\":\"white\",\"minorgridcolor\":\"white\",\"startlinecolor\":\"#2a3f5f\"},\"baxis\":{\"endlinecolor\":\"#2a3f5f\",\"gridcolor\":\"white\",\"linecolor\":\"white\",\"minorgridcolor\":\"white\",\"startlinecolor\":\"#2a3f5f\"},\"type\":\"carpet\"}],\"choropleth\":[{\"colorbar\":{\"outlinewidth\":0,\"ticks\":\"\"},\"type\":\"choropleth\"}],\"contour\":[{\"colorbar\":{\"outlinewidth\":0,\"ticks\":\"\"},\"colorscale\":[[0.0,\"#0d0887\"],[0.1111111111111111,\"#46039f\"],[0.2222222222222222,\"#7201a8\"],[0.3333333333333333,\"#9c179e\"],[0.4444444444444444,\"#bd3786\"],[0.5555555555555556,\"#d8576b\"],[0.6666666666666666,\"#ed7953\"],[0.7777777777777778,\"#fb9f3a\"],[0.8888888888888888,\"#fdca26\"],[1.0,\"#f0f921\"]],\"type\":\"contour\"}],\"contourcarpet\":[{\"colorbar\":{\"outlinewidth\":0,\"ticks\":\"\"},\"type\":\"contourcarpet\"}],\"heatmap\":[{\"colorbar\":{\"outlinewidth\":0,\"ticks\":\"\"},\"colorscale\":[[0.0,\"#0d0887\"],[0.1111111111111111,\"#46039f\"],[0.2222222222222222,\"#7201a8\"],[0.3333333333333333,\"#9c179e\"],[0.4444444444444444,\"#bd3786\"],[0.5555555555555556,\"#d8576b\"],[0.6666666666666666,\"#ed7953\"],[0.7777777777777778,\"#fb9f3a\"],[0.8888888888888888,\"#fdca26\"],[1.0,\"#f0f921\"]],\"type\":\"heatmap\"}],\"heatmapgl\":[{\"colorbar\":{\"outlinewidth\":0,\"ticks\":\"\"},\"colorscale\":[[0.0,\"#0d0887\"],[0.1111111111111111,\"#46039f\"],[0.2222222222222222,\"#7201a8\"],[0.3333333333333333,\"#9c179e\"],[0.4444444444444444,\"#bd3786\"],[0.5555555555555556,\"#d8576b\"],[0.6666666666666666,\"#ed7953\"],[0.7777777777777778,\"#fb9f3a\"],[0.8888888888888888,\"#fdca26\"],[1.0,\"#f0f921\"]],\"type\":\"heatmapgl\"}],\"histogram\":[{\"marker\":{\"pattern\":{\"fillmode\":\"overlay\",\"size\":10,\"solidity\":0.2}},\"type\":\"histogram\"}],\"histogram2d\":[{\"colorbar\":{\"outlinewidth\":0,\"ticks\":\"\"},\"colorscale\":[[0.0,\"#0d0887\"],[0.1111111111111111,\"#46039f\"],[0.2222222222222222,\"#7201a8\"],[0.3333333333333333,\"#9c179e\"],[0.4444444444444444,\"#bd3786\"],[0.5555555555555556,\"#d8576b\"],[0.6666666666666666,\"#ed7953\"],[0.7777777777777778,\"#fb9f3a\"],[0.8888888888888888,\"#fdca26\"],[1.0,\"#f0f921\"]],\"type\":\"histogram2d\"}],\"histogram2dcontour\":[{\"colorbar\":{\"outlinewidth\":0,\"ticks\":\"\"},\"colorscale\":[[0.0,\"#0d0887\"],[0.1111111111111111,\"#46039f\"],[0.2222222222222222,\"#7201a8\"],[0.3333333333333333,\"#9c179e\"],[0.4444444444444444,\"#bd3786\"],[0.5555555555555556,\"#d8576b\"],[0.6666666666666666,\"#ed7953\"],[0.7777777777777778,\"#fb9f3a\"],[0.8888888888888888,\"#fdca26\"],[1.0,\"#f0f921\"]],\"type\":\"histogram2dcontour\"}],\"mesh3d\":[{\"colorbar\":{\"outlinewidth\":0,\"ticks\":\"\"},\"type\":\"mesh3d\"}],\"parcoords\":[{\"line\":{\"colorbar\":{\"outlinewidth\":0,\"ticks\":\"\"}},\"type\":\"parcoords\"}],\"pie\":[{\"automargin\":true,\"type\":\"pie\"}],\"scatter\":[{\"marker\":{\"colorbar\":{\"outlinewidth\":0,\"ticks\":\"\"}},\"type\":\"scatter\"}],\"scatter3d\":[{\"line\":{\"colorbar\":{\"outlinewidth\":0,\"ticks\":\"\"}},\"marker\":{\"colorbar\":{\"outlinewidth\":0,\"ticks\":\"\"}},\"type\":\"scatter3d\"}],\"scattercarpet\":[{\"marker\":{\"colorbar\":{\"outlinewidth\":0,\"ticks\":\"\"}},\"type\":\"scattercarpet\"}],\"scattergeo\":[{\"marker\":{\"colorbar\":{\"outlinewidth\":0,\"ticks\":\"\"}},\"type\":\"scattergeo\"}],\"scattergl\":[{\"marker\":{\"colorbar\":{\"outlinewidth\":0,\"ticks\":\"\"}},\"type\":\"scattergl\"}],\"scattermapbox\":[{\"marker\":{\"colorbar\":{\"outlinewidth\":0,\"ticks\":\"\"}},\"type\":\"scattermapbox\"}],\"scatterpolar\":[{\"marker\":{\"colorbar\":{\"outlinewidth\":0,\"ticks\":\"\"}},\"type\":\"scatterpolar\"}],\"scatterpolargl\":[{\"marker\":{\"colorbar\":{\"outlinewidth\":0,\"ticks\":\"\"}},\"type\":\"scatterpolargl\"}],\"scatterternary\":[{\"marker\":{\"colorbar\":{\"outlinewidth\":0,\"ticks\":\"\"}},\"type\":\"scatterternary\"}],\"surface\":[{\"colorbar\":{\"outlinewidth\":0,\"ticks\":\"\"},\"colorscale\":[[0.0,\"#0d0887\"],[0.1111111111111111,\"#46039f\"],[0.2222222222222222,\"#7201a8\"],[0.3333333333333333,\"#9c179e\"],[0.4444444444444444,\"#bd3786\"],[0.5555555555555556,\"#d8576b\"],[0.6666666666666666,\"#ed7953\"],[0.7777777777777778,\"#fb9f3a\"],[0.8888888888888888,\"#fdca26\"],[1.0,\"#f0f921\"]],\"type\":\"surface\"}],\"table\":[{\"cells\":{\"fill\":{\"color\":\"#EBF0F8\"},\"line\":{\"color\":\"white\"}},\"header\":{\"fill\":{\"color\":\"#C8D4E3\"},\"line\":{\"color\":\"white\"}},\"type\":\"table\"}]},\"layout\":{\"annotationdefaults\":{\"arrowcolor\":\"#2a3f5f\",\"arrowhead\":0,\"arrowwidth\":1},\"autotypenumbers\":\"strict\",\"coloraxis\":{\"colorbar\":{\"outlinewidth\":0,\"ticks\":\"\"}},\"colorscale\":{\"diverging\":[[0,\"#8e0152\"],[0.1,\"#c51b7d\"],[0.2,\"#de77ae\"],[0.3,\"#f1b6da\"],[0.4,\"#fde0ef\"],[0.5,\"#f7f7f7\"],[0.6,\"#e6f5d0\"],[0.7,\"#b8e186\"],[0.8,\"#7fbc41\"],[0.9,\"#4d9221\"],[1,\"#276419\"]],\"sequential\":[[0.0,\"#0d0887\"],[0.1111111111111111,\"#46039f\"],[0.2222222222222222,\"#7201a8\"],[0.3333333333333333,\"#9c179e\"],[0.4444444444444444,\"#bd3786\"],[0.5555555555555556,\"#d8576b\"],[0.6666666666666666,\"#ed7953\"],[0.7777777777777778,\"#fb9f3a\"],[0.8888888888888888,\"#fdca26\"],[1.0,\"#f0f921\"]],\"sequentialminus\":[[0.0,\"#0d0887\"],[0.1111111111111111,\"#46039f\"],[0.2222222222222222,\"#7201a8\"],[0.3333333333333333,\"#9c179e\"],[0.4444444444444444,\"#bd3786\"],[0.5555555555555556,\"#d8576b\"],[0.6666666666666666,\"#ed7953\"],[0.7777777777777778,\"#fb9f3a\"],[0.8888888888888888,\"#fdca26\"],[1.0,\"#f0f921\"]]},\"colorway\":[\"#636efa\",\"#EF553B\",\"#00cc96\",\"#ab63fa\",\"#FFA15A\",\"#19d3f3\",\"#FF6692\",\"#B6E880\",\"#FF97FF\",\"#FECB52\"],\"font\":{\"color\":\"#2a3f5f\"},\"geo\":{\"bgcolor\":\"white\",\"lakecolor\":\"white\",\"landcolor\":\"#E5ECF6\",\"showlakes\":true,\"showland\":true,\"subunitcolor\":\"white\"},\"hoverlabel\":{\"align\":\"left\"},\"hovermode\":\"closest\",\"mapbox\":{\"style\":\"light\"},\"paper_bgcolor\":\"white\",\"plot_bgcolor\":\"#E5ECF6\",\"polar\":{\"angularaxis\":{\"gridcolor\":\"white\",\"linecolor\":\"white\",\"ticks\":\"\"},\"bgcolor\":\"#E5ECF6\",\"radialaxis\":{\"gridcolor\":\"white\",\"linecolor\":\"white\",\"ticks\":\"\"}},\"scene\":{\"xaxis\":{\"backgroundcolor\":\"#E5ECF6\",\"gridcolor\":\"white\",\"gridwidth\":2,\"linecolor\":\"white\",\"showbackground\":true,\"ticks\":\"\",\"zerolinecolor\":\"white\"},\"yaxis\":{\"backgroundcolor\":\"#E5ECF6\",\"gridcolor\":\"white\",\"gridwidth\":2,\"linecolor\":\"white\",\"showbackground\":true,\"ticks\":\"\",\"zerolinecolor\":\"white\"},\"zaxis\":{\"backgroundcolor\":\"#E5ECF6\",\"gridcolor\":\"white\",\"gridwidth\":2,\"linecolor\":\"white\",\"showbackground\":true,\"ticks\":\"\",\"zerolinecolor\":\"white\"}},\"shapedefaults\":{\"line\":{\"color\":\"#2a3f5f\"}},\"ternary\":{\"aaxis\":{\"gridcolor\":\"white\",\"linecolor\":\"white\",\"ticks\":\"\"},\"baxis\":{\"gridcolor\":\"white\",\"linecolor\":\"white\",\"ticks\":\"\"},\"bgcolor\":\"#E5ECF6\",\"caxis\":{\"gridcolor\":\"white\",\"linecolor\":\"white\",\"ticks\":\"\"}},\"title\":{\"x\":0.05},\"xaxis\":{\"automargin\":true,\"gridcolor\":\"white\",\"linecolor\":\"white\",\"ticks\":\"\",\"title\":{\"standoff\":15},\"zerolinecolor\":\"white\",\"zerolinewidth\":2},\"yaxis\":{\"automargin\":true,\"gridcolor\":\"white\",\"linecolor\":\"white\",\"ticks\":\"\",\"title\":{\"standoff\":15},\"zerolinecolor\":\"white\",\"zerolinewidth\":2}}},\"xaxis\":{\"anchor\":\"y\",\"domain\":[0.0,1.0],\"title\":{\"text\":\"x\"}},\"yaxis\":{\"anchor\":\"x\",\"domain\":[0.0,1.0],\"title\":{\"text\":\"value\"}},\"legend\":{\"title\":{\"text\":\"variable\"},\"tracegroupgap\":0},\"margin\":{\"t\":60}},                        {\"responsive\": true}                    ).then(function(){\n",
              "                            \n",
              "var gd = document.getElementById('867fbd99-3477-4f4e-9e82-b39d34da5c61');\n",
              "var x = new MutationObserver(function (mutations, observer) {{\n",
              "        var display = window.getComputedStyle(gd).display;\n",
              "        if (!display || display === 'none') {{\n",
              "            console.log([gd, 'removed!']);\n",
              "            Plotly.purge(gd);\n",
              "            observer.disconnect();\n",
              "        }}\n",
              "}});\n",
              "\n",
              "// Listen for the removal of the full notebook cells\n",
              "var notebookContainer = gd.closest('#notebook-container');\n",
              "if (notebookContainer) {{\n",
              "    x.observe(notebookContainer, {childList: true});\n",
              "}}\n",
              "\n",
              "// Listen for the clearing of the current output cell\n",
              "var outputEl = gd.closest('.output');\n",
              "if (outputEl) {{\n",
              "    x.observe(outputEl, {childList: true});\n",
              "}}\n",
              "\n",
              "                        })                };                            </script>        </div>\n",
              "</body>\n",
              "</html>"
            ]
          },
          "metadata": {},
          "output_type": "display_data"
        }
      ],
      "source": [
        "import plotly.express as px\n",
        "\n",
        "fig = px.line(x=range(1, len(val_losses)+1), y=[train_losses, val_losses])\n",
        "fig.show()"
      ]
    },
    {
      "cell_type": "code",
      "execution_count": null,
      "metadata": {
        "id": "wvsiIoBbIe9y"
      },
      "outputs": [],
      "source": [
        "def comment_to_tensor(comments):\n",
        "    crawled_comments = [dummy_preprocess(comment) for comment in comments]\n",
        "    norm_crw_comments = [[normalizer.normalize(word) for word in comment] for comment in crawled_comments]\n",
        "    crw_tokens = [hazm.word_tokenize(' '.join(comment)) for comment in norm_crw_comments]\n",
        "    nonstop_crw_tokens = [[token for token in comment if token not in stopwords] for comment in crw_tokens]\n",
        "    lemmatized_crw_tokens = [[lemmatizer.lemmatize(token) for token in comment] for comment in nonstop_crw_tokens]\n",
        "    lemmatized_crw_tokens = [[token for token in comment if '#' not in token] for comment in lemmatized_crw_tokens]\n",
        "    encoded_crw_comments = [encode_pad(comment, seq_len) for comment in lemmatized_crw_tokens]\n",
        "    X = torch.Tensor(encoded_crw_comments).type(torch.int)\n",
        "    return X"
      ]
    },
    {
      "cell_type": "code",
      "execution_count": null,
      "metadata": {
        "id": "AtkRqSzRFaNq"
      },
      "outputs": [],
      "source": [
        "comments = [\"خیلی خوبه.\", \"به درد نمی‌خوره. پیشنهاد نمی‌کنم\", \"افتضاحه\", \"عالیه\", \"حتما بخرید. خیلی خوبه. عالیه. پیشنهاد می‌کنم.\", \"فوق العاده است.\"]\n",
        "X = comment_to_tensor(comments)\n",
        "df = pd.DataFrame({\"Comments\": comments})"
      ]
    },
    {
      "cell_type": "code",
      "execution_count": null,
      "metadata": {
        "colab": {
          "base_uri": "https://localhost:8080/",
          "height": 237
        },
        "id": "5MAVAuv3fjpZ",
        "outputId": "ca5c7b61-639f-415c-c558-ba774472c9b3"
      },
      "outputs": [
        {
          "data": {
            "text/html": [
              "\n",
              "  <div id=\"df-acf8cbd7-0395-487f-8684-4966a70fcdab\">\n",
              "    <div class=\"colab-df-container\">\n",
              "      <div>\n",
              "<style scoped>\n",
              "    .dataframe tbody tr th:only-of-type {\n",
              "        vertical-align: middle;\n",
              "    }\n",
              "\n",
              "    .dataframe tbody tr th {\n",
              "        vertical-align: top;\n",
              "    }\n",
              "\n",
              "    .dataframe thead th {\n",
              "        text-align: right;\n",
              "    }\n",
              "</style>\n",
              "<table border=\"1\" class=\"dataframe\">\n",
              "  <thead>\n",
              "    <tr style=\"text-align: right;\">\n",
              "      <th></th>\n",
              "      <th>Comments</th>\n",
              "      <th>recommendataion</th>\n",
              "    </tr>\n",
              "  </thead>\n",
              "  <tbody>\n",
              "    <tr>\n",
              "      <th>0</th>\n",
              "      <td>خیلی خوبه.</td>\n",
              "      <td>not recommended</td>\n",
              "    </tr>\n",
              "    <tr>\n",
              "      <th>1</th>\n",
              "      <td>به درد نمی‌خوره. پیشنهاد نمی‌کنم</td>\n",
              "      <td>not recommended</td>\n",
              "    </tr>\n",
              "    <tr>\n",
              "      <th>2</th>\n",
              "      <td>افتضاحه</td>\n",
              "      <td>recommended</td>\n",
              "    </tr>\n",
              "    <tr>\n",
              "      <th>3</th>\n",
              "      <td>عالیه</td>\n",
              "      <td>not recommended</td>\n",
              "    </tr>\n",
              "    <tr>\n",
              "      <th>4</th>\n",
              "      <td>حتما بخرید. خیلی خوبه. عالیه. پیشنهاد می‌کنم.</td>\n",
              "      <td>not recommended</td>\n",
              "    </tr>\n",
              "    <tr>\n",
              "      <th>5</th>\n",
              "      <td>فوق العاده است.</td>\n",
              "      <td>not recommended</td>\n",
              "    </tr>\n",
              "  </tbody>\n",
              "</table>\n",
              "</div>\n",
              "      <button class=\"colab-df-convert\" onclick=\"convertToInteractive('df-acf8cbd7-0395-487f-8684-4966a70fcdab')\"\n",
              "              title=\"Convert this dataframe to an interactive table.\"\n",
              "              style=\"display:none;\">\n",
              "        \n",
              "  <svg xmlns=\"http://www.w3.org/2000/svg\" height=\"24px\"viewBox=\"0 0 24 24\"\n",
              "       width=\"24px\">\n",
              "    <path d=\"M0 0h24v24H0V0z\" fill=\"none\"/>\n",
              "    <path d=\"M18.56 5.44l.94 2.06.94-2.06 2.06-.94-2.06-.94-.94-2.06-.94 2.06-2.06.94zm-11 1L8.5 8.5l.94-2.06 2.06-.94-2.06-.94L8.5 2.5l-.94 2.06-2.06.94zm10 10l.94 2.06.94-2.06 2.06-.94-2.06-.94-.94-2.06-.94 2.06-2.06.94z\"/><path d=\"M17.41 7.96l-1.37-1.37c-.4-.4-.92-.59-1.43-.59-.52 0-1.04.2-1.43.59L10.3 9.45l-7.72 7.72c-.78.78-.78 2.05 0 2.83L4 21.41c.39.39.9.59 1.41.59.51 0 1.02-.2 1.41-.59l7.78-7.78 2.81-2.81c.8-.78.8-2.07 0-2.86zM5.41 20L4 18.59l7.72-7.72 1.47 1.35L5.41 20z\"/>\n",
              "  </svg>\n",
              "      </button>\n",
              "      \n",
              "  <style>\n",
              "    .colab-df-container {\n",
              "      display:flex;\n",
              "      flex-wrap:wrap;\n",
              "      gap: 12px;\n",
              "    }\n",
              "\n",
              "    .colab-df-convert {\n",
              "      background-color: #E8F0FE;\n",
              "      border: none;\n",
              "      border-radius: 50%;\n",
              "      cursor: pointer;\n",
              "      display: none;\n",
              "      fill: #1967D2;\n",
              "      height: 32px;\n",
              "      padding: 0 0 0 0;\n",
              "      width: 32px;\n",
              "    }\n",
              "\n",
              "    .colab-df-convert:hover {\n",
              "      background-color: #E2EBFA;\n",
              "      box-shadow: 0px 1px 2px rgba(60, 64, 67, 0.3), 0px 1px 3px 1px rgba(60, 64, 67, 0.15);\n",
              "      fill: #174EA6;\n",
              "    }\n",
              "\n",
              "    [theme=dark] .colab-df-convert {\n",
              "      background-color: #3B4455;\n",
              "      fill: #D2E3FC;\n",
              "    }\n",
              "\n",
              "    [theme=dark] .colab-df-convert:hover {\n",
              "      background-color: #434B5C;\n",
              "      box-shadow: 0px 1px 3px 1px rgba(0, 0, 0, 0.15);\n",
              "      filter: drop-shadow(0px 1px 2px rgba(0, 0, 0, 0.3));\n",
              "      fill: #FFFFFF;\n",
              "    }\n",
              "  </style>\n",
              "\n",
              "      <script>\n",
              "        const buttonEl =\n",
              "          document.querySelector('#df-acf8cbd7-0395-487f-8684-4966a70fcdab button.colab-df-convert');\n",
              "        buttonEl.style.display =\n",
              "          google.colab.kernel.accessAllowed ? 'block' : 'none';\n",
              "\n",
              "        async function convertToInteractive(key) {\n",
              "          const element = document.querySelector('#df-acf8cbd7-0395-487f-8684-4966a70fcdab');\n",
              "          const dataTable =\n",
              "            await google.colab.kernel.invokeFunction('convertToInteractive',\n",
              "                                                     [key], {});\n",
              "          if (!dataTable) return;\n",
              "\n",
              "          const docLinkHtml = 'Like what you see? Visit the ' +\n",
              "            '<a target=\"_blank\" href=https://colab.research.google.com/notebooks/data_table.ipynb>data table notebook</a>'\n",
              "            + ' to learn more about interactive tables.';\n",
              "          element.innerHTML = '';\n",
              "          dataTable['output_type'] = 'display_data';\n",
              "          await google.colab.output.renderOutput(dataTable, element);\n",
              "          const docLink = document.createElement('div');\n",
              "          docLink.innerHTML = docLinkHtml;\n",
              "          element.appendChild(docLink);\n",
              "        }\n",
              "      </script>\n",
              "    </div>\n",
              "  </div>\n",
              "  "
            ],
            "text/plain": [
              "                                        Comments  recommendataion\n",
              "0                                     خیلی خوبه.  not recommended\n",
              "1               به درد نمی‌خوره. پیشنهاد نمی‌کنم  not recommended\n",
              "2                                        افتضاحه      recommended\n",
              "3                                          عالیه  not recommended\n",
              "4  حتما بخرید. خیلی خوبه. عالیه. پیشنهاد می‌کنم.  not recommended\n",
              "5                                فوق العاده است.  not recommended"
            ]
          },
          "execution_count": 45,
          "metadata": {},
          "output_type": "execute_result"
        }
      ],
      "source": [
        "recommendations = []\n",
        "with torch.no_grad():\n",
        "    for x in X:\n",
        "        x = x.to(device)\n",
        "        label = int(model(x.unsqueeze(0)).item()>=0.5)\n",
        "        if label:\n",
        "            recommendations.append(\"recommended\")\n",
        "        else:\n",
        "            recommendations.append(\"not recommended\")\n",
        "df[\"recommendataion\"] = recommendations\n",
        "df"
      ]
    },
    {
      "cell_type": "code",
      "execution_count": null,
      "metadata": {
        "id": "dpvh1iwzR5Py"
      },
      "outputs": [],
      "source": []
    }
  ],
  "metadata": {
    "colab": {
      "collapsed_sections": [],
      "name": "NLP_HW2.ipynb",
      "provenance": []
    },
    "kernelspec": {
      "display_name": "Python 3",
      "name": "python3"
    },
    "language_info": {
      "codemirror_mode": {
        "name": "ipython",
        "version": 3
      },
      "file_extension": ".py",
      "mimetype": "text/x-python",
      "name": "python",
      "nbconvert_exporter": "python",
      "pygments_lexer": "ipython3",
      "version": "3.9.7"
    }
  },
  "nbformat": 4,
  "nbformat_minor": 0
}
